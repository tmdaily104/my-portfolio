{
 "cells": [
  {
   "cell_type": "code",
   "execution_count": null,
   "id": "63cb440a",
   "metadata": {},
   "outputs": [],
   "source": [
    "import pandas as pd\n",
    "from sklearn.tree import DecisionTreeClassifier"
   ]
  },
  {
   "cell_type": "code",
   "execution_count": null,
   "id": "fb3f2111",
   "metadata": {},
   "outputs": [],
   "source": [
    "def error_count(answers, predictions):\n",
    "    count = 0\n",
    "    for i in range(len(answers)):\n",
    "        if answers[i] != predictions[i]:\n",
    "            count += 1\n",
    "    return count"
   ]
  },
  {
   "cell_type": "code",
   "execution_count": null,
   "id": "535f58da",
   "metadata": {},
   "outputs": [],
   "source": [
    "def accuracy(answers, predictions):\n",
    "    # < write code here >\n",
    "    correct = 0\n",
    "    for i in range(len(answers)):\n",
    "        if answers[i] == predictions[i]:\n",
    "            correct += 1\n",
    "    return correct / len(answers)"
   ]
  },
  {
   "cell_type": "code",
   "execution_count": null,
   "id": "f17329f7",
   "metadata": {},
   "outputs": [],
   "source": [
    "df = pd.read_csv('/datasets/train_data_us.csv')\n",
    "\n",
    "threshold = 100000\n",
    "df.loc[df['last_price'] > threshold, 'price_class'] = 1\n",
    "df.loc[df['last_price'] <= threshold, 'price_class'] = 0\n",
    "\n",
    "features = df.drop(['last_price', 'price_class'], axis=1)\n",
    "target = df['price_class']\n",
    "\n",
    "model = DecisionTreeClassifier(random_state=12345)\n",
    "\n",
    "model.fit(features, target)\n",
    "\n",
    "test_df = pd.read_csv('/datasets/test_data_us.csv')\n",
    "\n",
    "test_df.loc[test_df['last_price'] > threshold, 'price_class'] = 1\n",
    "test_df.loc[test_df['last_price'] <= threshold, 'price_class'] = 0\n",
    "\n",
    "test_features = test_df.drop(['last_price', 'price_class'], axis=1)\n",
    "test_target = test_df['price_class']\n",
    "test_predictions = model.predict(test_features)\n",
    "\n",
    "print('Accuracy:', accuracy(test_target, test_predictions))"
   ]
  }
 ],
 "metadata": {
  "language_info": {
   "name": "python"
  }
 },
 "nbformat": 4,
 "nbformat_minor": 5
}
